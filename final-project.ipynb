{
 "cells": [
  {
   "metadata": {},
   "cell_type": "markdown",
   "source": "## Data-driven Healthcare Analysis",
   "id": "dae22bf3ba9b88e4"
  },
  {
   "metadata": {},
   "cell_type": "markdown",
   "source": [
    "##### This project is aim to analyze the healthcare dataset and provide insights to the stakeholders. \n",
    "##### Our team consists of 4 members: \n",
    "- Pun Solita\n",
    "- Vicheanon Norakpichit\n",
    "- Sim Thydatepin\n",
    "- Som Deborah."
   ],
   "id": "be5d3095d40853a6"
  },
  {
   "cell_type": "code",
   "id": "initial_id",
   "metadata": {
    "collapsed": true,
    "ExecuteTime": {
     "end_time": "2024-12-24T05:35:26.092566Z",
     "start_time": "2024-12-24T05:35:23.889612Z"
    }
   },
   "source": [
    "import pandas as pd\n",
    "#load data from csv\n",
    "df = pd.read_csv('healthcare_dataset.csv')\n",
    "df.head()"
   ],
   "outputs": [
    {
     "data": {
      "text/plain": [
       "            Name  Age  Gender Blood Type Medical Condition Date of Admission  \\\n",
       "0  Bobby JacksOn   30    Male         B-            Cancer        2024-01-31   \n",
       "1   LesLie TErRy   62    Male         A+           Obesity        2019-08-20   \n",
       "2    DaNnY sMitH   76  Female         A-           Obesity        2022-09-22   \n",
       "3   andrEw waTtS   28  Female         O+          Diabetes        2020-11-18   \n",
       "4  adrIENNE bEll   43  Female        AB+            Cancer        2022-09-19   \n",
       "\n",
       "             Doctor                    Hospital Insurance Provider  \\\n",
       "0     Matthew Smith             Sons and Miller         Blue Cross   \n",
       "1   Samantha Davies                     Kim Inc           Medicare   \n",
       "2  Tiffany Mitchell                    Cook PLC              Aetna   \n",
       "3       Kevin Wells  Hernandez Rogers and Vang,           Medicare   \n",
       "4    Kathleen Hanna                 White-White              Aetna   \n",
       "\n",
       "   Billing Amount  Room Number Admission Type Discharge Date   Medication  \\\n",
       "0    18856.281306          328         Urgent     2024-02-02  Paracetamol   \n",
       "1    33643.327287          265      Emergency     2019-08-26    Ibuprofen   \n",
       "2    27955.096079          205      Emergency     2022-10-07      Aspirin   \n",
       "3    37909.782410          450       Elective     2020-12-18    Ibuprofen   \n",
       "4    14238.317814          458         Urgent     2022-10-09   Penicillin   \n",
       "\n",
       "   Test Results  \n",
       "0        Normal  \n",
       "1  Inconclusive  \n",
       "2        Normal  \n",
       "3      Abnormal  \n",
       "4      Abnormal  "
      ],
      "text/html": [
       "<div>\n",
       "<style scoped>\n",
       "    .dataframe tbody tr th:only-of-type {\n",
       "        vertical-align: middle;\n",
       "    }\n",
       "\n",
       "    .dataframe tbody tr th {\n",
       "        vertical-align: top;\n",
       "    }\n",
       "\n",
       "    .dataframe thead th {\n",
       "        text-align: right;\n",
       "    }\n",
       "</style>\n",
       "<table border=\"1\" class=\"dataframe\">\n",
       "  <thead>\n",
       "    <tr style=\"text-align: right;\">\n",
       "      <th></th>\n",
       "      <th>Name</th>\n",
       "      <th>Age</th>\n",
       "      <th>Gender</th>\n",
       "      <th>Blood Type</th>\n",
       "      <th>Medical Condition</th>\n",
       "      <th>Date of Admission</th>\n",
       "      <th>Doctor</th>\n",
       "      <th>Hospital</th>\n",
       "      <th>Insurance Provider</th>\n",
       "      <th>Billing Amount</th>\n",
       "      <th>Room Number</th>\n",
       "      <th>Admission Type</th>\n",
       "      <th>Discharge Date</th>\n",
       "      <th>Medication</th>\n",
       "      <th>Test Results</th>\n",
       "    </tr>\n",
       "  </thead>\n",
       "  <tbody>\n",
       "    <tr>\n",
       "      <th>0</th>\n",
       "      <td>Bobby JacksOn</td>\n",
       "      <td>30</td>\n",
       "      <td>Male</td>\n",
       "      <td>B-</td>\n",
       "      <td>Cancer</td>\n",
       "      <td>2024-01-31</td>\n",
       "      <td>Matthew Smith</td>\n",
       "      <td>Sons and Miller</td>\n",
       "      <td>Blue Cross</td>\n",
       "      <td>18856.281306</td>\n",
       "      <td>328</td>\n",
       "      <td>Urgent</td>\n",
       "      <td>2024-02-02</td>\n",
       "      <td>Paracetamol</td>\n",
       "      <td>Normal</td>\n",
       "    </tr>\n",
       "    <tr>\n",
       "      <th>1</th>\n",
       "      <td>LesLie TErRy</td>\n",
       "      <td>62</td>\n",
       "      <td>Male</td>\n",
       "      <td>A+</td>\n",
       "      <td>Obesity</td>\n",
       "      <td>2019-08-20</td>\n",
       "      <td>Samantha Davies</td>\n",
       "      <td>Kim Inc</td>\n",
       "      <td>Medicare</td>\n",
       "      <td>33643.327287</td>\n",
       "      <td>265</td>\n",
       "      <td>Emergency</td>\n",
       "      <td>2019-08-26</td>\n",
       "      <td>Ibuprofen</td>\n",
       "      <td>Inconclusive</td>\n",
       "    </tr>\n",
       "    <tr>\n",
       "      <th>2</th>\n",
       "      <td>DaNnY sMitH</td>\n",
       "      <td>76</td>\n",
       "      <td>Female</td>\n",
       "      <td>A-</td>\n",
       "      <td>Obesity</td>\n",
       "      <td>2022-09-22</td>\n",
       "      <td>Tiffany Mitchell</td>\n",
       "      <td>Cook PLC</td>\n",
       "      <td>Aetna</td>\n",
       "      <td>27955.096079</td>\n",
       "      <td>205</td>\n",
       "      <td>Emergency</td>\n",
       "      <td>2022-10-07</td>\n",
       "      <td>Aspirin</td>\n",
       "      <td>Normal</td>\n",
       "    </tr>\n",
       "    <tr>\n",
       "      <th>3</th>\n",
       "      <td>andrEw waTtS</td>\n",
       "      <td>28</td>\n",
       "      <td>Female</td>\n",
       "      <td>O+</td>\n",
       "      <td>Diabetes</td>\n",
       "      <td>2020-11-18</td>\n",
       "      <td>Kevin Wells</td>\n",
       "      <td>Hernandez Rogers and Vang,</td>\n",
       "      <td>Medicare</td>\n",
       "      <td>37909.782410</td>\n",
       "      <td>450</td>\n",
       "      <td>Elective</td>\n",
       "      <td>2020-12-18</td>\n",
       "      <td>Ibuprofen</td>\n",
       "      <td>Abnormal</td>\n",
       "    </tr>\n",
       "    <tr>\n",
       "      <th>4</th>\n",
       "      <td>adrIENNE bEll</td>\n",
       "      <td>43</td>\n",
       "      <td>Female</td>\n",
       "      <td>AB+</td>\n",
       "      <td>Cancer</td>\n",
       "      <td>2022-09-19</td>\n",
       "      <td>Kathleen Hanna</td>\n",
       "      <td>White-White</td>\n",
       "      <td>Aetna</td>\n",
       "      <td>14238.317814</td>\n",
       "      <td>458</td>\n",
       "      <td>Urgent</td>\n",
       "      <td>2022-10-09</td>\n",
       "      <td>Penicillin</td>\n",
       "      <td>Abnormal</td>\n",
       "    </tr>\n",
       "  </tbody>\n",
       "</table>\n",
       "</div>"
      ]
     },
     "execution_count": 1,
     "metadata": {},
     "output_type": "execute_result"
    }
   ],
   "execution_count": 1
  },
  {
   "metadata": {
    "ExecuteTime": {
     "end_time": "2024-12-24T05:35:26.228210Z",
     "start_time": "2024-12-24T05:35:26.186513Z"
    }
   },
   "cell_type": "code",
   "source": [
    "#check for missing values\n",
    "df.isnull().sum()"
   ],
   "id": "b982198e6b6aa8b7",
   "outputs": [
    {
     "data": {
      "text/plain": [
       "Name                  0\n",
       "Age                   0\n",
       "Gender                0\n",
       "Blood Type            0\n",
       "Medical Condition     0\n",
       "Date of Admission     0\n",
       "Doctor                0\n",
       "Hospital              0\n",
       "Insurance Provider    0\n",
       "Billing Amount        0\n",
       "Room Number           0\n",
       "Admission Type        0\n",
       "Discharge Date        0\n",
       "Medication            0\n",
       "Test Results          0\n",
       "dtype: int64"
      ]
     },
     "execution_count": 2,
     "metadata": {},
     "output_type": "execute_result"
    }
   ],
   "execution_count": 2
  },
  {
   "metadata": {
    "ExecuteTime": {
     "end_time": "2024-12-24T05:35:26.345944Z",
     "start_time": "2024-12-24T05:35:26.341970Z"
    }
   },
   "cell_type": "code",
   "source": [
    "# count all rows\n",
    "df.shape[0]"
   ],
   "id": "f3da73bdf62fe0ae",
   "outputs": [
    {
     "data": {
      "text/plain": [
       "55500"
      ]
     },
     "execution_count": 3,
     "metadata": {},
     "output_type": "execute_result"
    }
   ],
   "execution_count": 3
  },
  {
   "metadata": {
    "ExecuteTime": {
     "end_time": "2024-12-24T05:35:26.606870Z",
     "start_time": "2024-12-24T05:35:26.523925Z"
    }
   },
   "cell_type": "code",
   "source": [
    "# check duplicates\n",
    "df.duplicated().sum()"
   ],
   "id": "dad6a9deb952b9a5",
   "outputs": [
    {
     "data": {
      "text/plain": [
       "534"
      ]
     },
     "execution_count": 4,
     "metadata": {},
     "output_type": "execute_result"
    }
   ],
   "execution_count": 4
  },
  {
   "metadata": {
    "ExecuteTime": {
     "end_time": "2024-12-24T05:35:26.834967Z",
     "start_time": "2024-12-24T05:35:26.737883Z"
    }
   },
   "cell_type": "code",
   "source": [
    "# drop duplicates\n",
    "df.drop_duplicates(inplace=True)"
   ],
   "id": "3aee4bc8a4788eb9",
   "outputs": [],
   "execution_count": 5
  },
  {
   "metadata": {
    "ExecuteTime": {
     "end_time": "2024-12-24T05:35:27.037551Z",
     "start_time": "2024-12-24T05:35:26.937196Z"
    }
   },
   "cell_type": "code",
   "source": [
    "# check for duplicates\n",
    "df.duplicated().sum()"
   ],
   "id": "7e300f2e02d5f015",
   "outputs": [
    {
     "data": {
      "text/plain": [
       "0"
      ]
     },
     "execution_count": 6,
     "metadata": {},
     "output_type": "execute_result"
    }
   ],
   "execution_count": 6
  },
  {
   "metadata": {
    "ExecuteTime": {
     "end_time": "2024-12-24T05:35:28.104439Z",
     "start_time": "2024-12-24T05:35:27.736967Z"
    }
   },
   "cell_type": "code",
   "source": [
    "# save cleaned data\n",
    "df.to_csv('cleaned_healthcare_dataset.csv', index=False)"
   ],
   "id": "e4d954d1e9409952",
   "outputs": [],
   "execution_count": 7
  },
  {
   "metadata": {
    "ExecuteTime": {
     "end_time": "2024-12-24T05:35:28.144579Z",
     "start_time": "2024-12-24T05:35:28.113818Z"
    }
   },
   "cell_type": "code",
   "source": [
    "# print columns and it's data type\n",
    "df.info()\n"
   ],
   "id": "42a36552668713fe",
   "outputs": [
    {
     "name": "stdout",
     "output_type": "stream",
     "text": [
      "<class 'pandas.core.frame.DataFrame'>\n",
      "Index: 54966 entries, 0 to 55499\n",
      "Data columns (total 15 columns):\n",
      " #   Column              Non-Null Count  Dtype  \n",
      "---  ------              --------------  -----  \n",
      " 0   Name                54966 non-null  object \n",
      " 1   Age                 54966 non-null  int64  \n",
      " 2   Gender              54966 non-null  object \n",
      " 3   Blood Type          54966 non-null  object \n",
      " 4   Medical Condition   54966 non-null  object \n",
      " 5   Date of Admission   54966 non-null  object \n",
      " 6   Doctor              54966 non-null  object \n",
      " 7   Hospital            54966 non-null  object \n",
      " 8   Insurance Provider  54966 non-null  object \n",
      " 9   Billing Amount      54966 non-null  float64\n",
      " 10  Room Number         54966 non-null  int64  \n",
      " 11  Admission Type      54966 non-null  object \n",
      " 12  Discharge Date      54966 non-null  object \n",
      " 13  Medication          54966 non-null  object \n",
      " 14  Test Results        54966 non-null  object \n",
      "dtypes: float64(1), int64(2), object(12)\n",
      "memory usage: 6.7+ MB\n"
     ]
    }
   ],
   "execution_count": 8
  },
  {
   "metadata": {},
   "cell_type": "markdown",
   "source": "## Create table in PostgreSQL",
   "id": "ff241cc5a1cbe0c7"
  },
  {
   "metadata": {
    "ExecuteTime": {
     "end_time": "2024-12-24T05:35:28.174888Z",
     "start_time": "2024-12-24T05:35:28.170564Z"
    }
   },
   "cell_type": "code",
   "source": [
    "# import psycopg2\n",
    "# \n",
    "# # Database connection configuration\n",
    "# db_config = {\n",
    "#     'dbname': 'postgres',\n",
    "#     'user': 'postgres',\n",
    "#     'password': '1234',\n",
    "#     'host': 'localhost',\n",
    "#     'port': 5432\n",
    "# }\n",
    "# \n",
    "# # SQL query to create table\n",
    "# create_table_query = \"\"\"\n",
    "# CREATE TABLE healthcare_data (\n",
    "#     Name TEXT NOT NULL,\n",
    "#     Age INTEGER NOT NULL,\n",
    "#     Gender TEXT NOT NULL,\n",
    "#     Blood_Type TEXT NOT NULL,\n",
    "#     Medical_Condition TEXT NOT NULL,\n",
    "#     Date_of_Admission DATE NOT NULL,\n",
    "#     Doctor TEXT NOT NULL,\n",
    "#     Hospital TEXT NOT NULL,\n",
    "#     Insurance_Provider TEXT NOT NULL,\n",
    "#     Billing_Amount DOUBLE PRECISION NOT NULL,\n",
    "#     Room_Number INTEGER NOT NULL,\n",
    "#     Admission_Type TEXT NOT NULL,\n",
    "#     Discharge_Date DATE NOT NULL,\n",
    "#     Medication TEXT NOT NULL,\n",
    "#     Test_Results TEXT NOT NULL\n",
    "# );\n",
    "# \"\"\"\n",
    "# \n",
    "# try:\n",
    "#     # Establishing the connection\n",
    "#     connection = psycopg2.connect(**db_config)\n",
    "#     cursor = connection.cursor()\n",
    "#     \n",
    "#     # Creating the table\n",
    "#     cursor.execute(create_table_query)\n",
    "#     connection.commit()\n",
    "#     print(\"Table 'healthcare_data' created successfully!\")\n",
    "#     \n",
    "# except (Exception, psycopg2.DatabaseError) as error:\n",
    "#     print(f\"Error: {error}\")\n",
    "# finally:\n",
    "#     if cursor:\n",
    "#         cursor.close()\n",
    "#     if connection:\n",
    "#         connection.close()\n",
    "#         print(\"Database connection closed.\")\n"
   ],
   "id": "ef8de997300a0ab1",
   "outputs": [],
   "execution_count": 9
  },
  {
   "metadata": {
    "ExecuteTime": {
     "end_time": "2024-12-24T05:35:28.626494Z",
     "start_time": "2024-12-24T05:35:28.312804Z"
    }
   },
   "cell_type": "code",
   "source": [
    "# read new data\n",
    "df_hive = pd.read_csv('healthcare_dataset_hadoop.csv')"
   ],
   "id": "bf7312ed7262d3a",
   "outputs": [],
   "execution_count": 12
  },
  {
   "metadata": {
    "ExecuteTime": {
     "end_time": "2024-12-24T05:35:28.671231Z",
     "start_time": "2024-12-24T05:35:28.656840Z"
    }
   },
   "cell_type": "code",
   "source": "df_hive.head()",
   "id": "277a114f33c476c4",
   "outputs": [
    {
     "data": {
      "text/plain": [
       "            Name  Age  Gender Blood Type Medical Condition Date of Admission  \\\n",
       "0  Bobby Jackson   30    Male         B-            Cancer        2024-01-31   \n",
       "1   Leslie Terry   62    Male         A+           Obesity        2019-08-20   \n",
       "2    Danny Smith   76  Female         A-           Obesity        2022-09-22   \n",
       "3   Andrew Watts   28  Female         O+          Diabetes        2020-11-18   \n",
       "4  Adrienne Bell   43  Female        Ab+            Cancer        2022-09-19   \n",
       "\n",
       "             Doctor                    Hospital Insurance Provider  \\\n",
       "0     Matthew Smith             Sons And Miller         Blue Cross   \n",
       "1   Samantha Davies                     Kim Inc           Medicare   \n",
       "2  Tiffany Mitchell                    Cook Plc              Aetna   \n",
       "3       Kevin Wells  Hernandez Rogers And Vang,           Medicare   \n",
       "4    Kathleen Hanna                 White-White              Aetna   \n",
       "\n",
       "   Billing Amount  Room Number Admission Type Discharge Date   Medication  \\\n",
       "0    18856.281306          328         Urgent     2024-02-02  Paracetamol   \n",
       "1    33643.327287          265      Emergency     2019-08-26    Ibuprofen   \n",
       "2    27955.096079          205      Emergency     2022-10-07      Aspirin   \n",
       "3    37909.782410          450       Elective     2020-12-18    Ibuprofen   \n",
       "4    14238.317814          458         Urgent     2022-10-09   Penicillin   \n",
       "\n",
       "   Test Results  \n",
       "0        Normal  \n",
       "1  Inconclusive  \n",
       "2        Normal  \n",
       "3      Abnormal  \n",
       "4      Abnormal  "
      ],
      "text/html": [
       "<div>\n",
       "<style scoped>\n",
       "    .dataframe tbody tr th:only-of-type {\n",
       "        vertical-align: middle;\n",
       "    }\n",
       "\n",
       "    .dataframe tbody tr th {\n",
       "        vertical-align: top;\n",
       "    }\n",
       "\n",
       "    .dataframe thead th {\n",
       "        text-align: right;\n",
       "    }\n",
       "</style>\n",
       "<table border=\"1\" class=\"dataframe\">\n",
       "  <thead>\n",
       "    <tr style=\"text-align: right;\">\n",
       "      <th></th>\n",
       "      <th>Name</th>\n",
       "      <th>Age</th>\n",
       "      <th>Gender</th>\n",
       "      <th>Blood Type</th>\n",
       "      <th>Medical Condition</th>\n",
       "      <th>Date of Admission</th>\n",
       "      <th>Doctor</th>\n",
       "      <th>Hospital</th>\n",
       "      <th>Insurance Provider</th>\n",
       "      <th>Billing Amount</th>\n",
       "      <th>Room Number</th>\n",
       "      <th>Admission Type</th>\n",
       "      <th>Discharge Date</th>\n",
       "      <th>Medication</th>\n",
       "      <th>Test Results</th>\n",
       "    </tr>\n",
       "  </thead>\n",
       "  <tbody>\n",
       "    <tr>\n",
       "      <th>0</th>\n",
       "      <td>Bobby Jackson</td>\n",
       "      <td>30</td>\n",
       "      <td>Male</td>\n",
       "      <td>B-</td>\n",
       "      <td>Cancer</td>\n",
       "      <td>2024-01-31</td>\n",
       "      <td>Matthew Smith</td>\n",
       "      <td>Sons And Miller</td>\n",
       "      <td>Blue Cross</td>\n",
       "      <td>18856.281306</td>\n",
       "      <td>328</td>\n",
       "      <td>Urgent</td>\n",
       "      <td>2024-02-02</td>\n",
       "      <td>Paracetamol</td>\n",
       "      <td>Normal</td>\n",
       "    </tr>\n",
       "    <tr>\n",
       "      <th>1</th>\n",
       "      <td>Leslie Terry</td>\n",
       "      <td>62</td>\n",
       "      <td>Male</td>\n",
       "      <td>A+</td>\n",
       "      <td>Obesity</td>\n",
       "      <td>2019-08-20</td>\n",
       "      <td>Samantha Davies</td>\n",
       "      <td>Kim Inc</td>\n",
       "      <td>Medicare</td>\n",
       "      <td>33643.327287</td>\n",
       "      <td>265</td>\n",
       "      <td>Emergency</td>\n",
       "      <td>2019-08-26</td>\n",
       "      <td>Ibuprofen</td>\n",
       "      <td>Inconclusive</td>\n",
       "    </tr>\n",
       "    <tr>\n",
       "      <th>2</th>\n",
       "      <td>Danny Smith</td>\n",
       "      <td>76</td>\n",
       "      <td>Female</td>\n",
       "      <td>A-</td>\n",
       "      <td>Obesity</td>\n",
       "      <td>2022-09-22</td>\n",
       "      <td>Tiffany Mitchell</td>\n",
       "      <td>Cook Plc</td>\n",
       "      <td>Aetna</td>\n",
       "      <td>27955.096079</td>\n",
       "      <td>205</td>\n",
       "      <td>Emergency</td>\n",
       "      <td>2022-10-07</td>\n",
       "      <td>Aspirin</td>\n",
       "      <td>Normal</td>\n",
       "    </tr>\n",
       "    <tr>\n",
       "      <th>3</th>\n",
       "      <td>Andrew Watts</td>\n",
       "      <td>28</td>\n",
       "      <td>Female</td>\n",
       "      <td>O+</td>\n",
       "      <td>Diabetes</td>\n",
       "      <td>2020-11-18</td>\n",
       "      <td>Kevin Wells</td>\n",
       "      <td>Hernandez Rogers And Vang,</td>\n",
       "      <td>Medicare</td>\n",
       "      <td>37909.782410</td>\n",
       "      <td>450</td>\n",
       "      <td>Elective</td>\n",
       "      <td>2020-12-18</td>\n",
       "      <td>Ibuprofen</td>\n",
       "      <td>Abnormal</td>\n",
       "    </tr>\n",
       "    <tr>\n",
       "      <th>4</th>\n",
       "      <td>Adrienne Bell</td>\n",
       "      <td>43</td>\n",
       "      <td>Female</td>\n",
       "      <td>Ab+</td>\n",
       "      <td>Cancer</td>\n",
       "      <td>2022-09-19</td>\n",
       "      <td>Kathleen Hanna</td>\n",
       "      <td>White-White</td>\n",
       "      <td>Aetna</td>\n",
       "      <td>14238.317814</td>\n",
       "      <td>458</td>\n",
       "      <td>Urgent</td>\n",
       "      <td>2022-10-09</td>\n",
       "      <td>Penicillin</td>\n",
       "      <td>Abnormal</td>\n",
       "    </tr>\n",
       "  </tbody>\n",
       "</table>\n",
       "</div>"
      ]
     },
     "execution_count": 13,
     "metadata": {},
     "output_type": "execute_result"
    }
   ],
   "execution_count": 13
  },
  {
   "metadata": {
    "ExecuteTime": {
     "end_time": "2024-12-24T05:35:28.781624Z",
     "start_time": "2024-12-24T05:35:28.732497Z"
    }
   },
   "cell_type": "code",
   "source": [
    "# check for missing values\n",
    "df_hive.isnull().sum()\n",
    "\n",
    "# check for null values\n",
    "df_hive.isnull().sum()"
   ],
   "id": "28ed1c19dcf6285",
   "outputs": [
    {
     "data": {
      "text/plain": [
       "Name                  0\n",
       "Age                   0\n",
       "Gender                0\n",
       "Blood Type            0\n",
       "Medical Condition     0\n",
       "Date of Admission     0\n",
       "Doctor                0\n",
       "Hospital              0\n",
       "Insurance Provider    0\n",
       "Billing Amount        0\n",
       "Room Number           0\n",
       "Admission Type        0\n",
       "Discharge Date        0\n",
       "Medication            0\n",
       "Test Results          0\n",
       "dtype: int64"
      ]
     },
     "execution_count": 14,
     "metadata": {},
     "output_type": "execute_result"
    }
   ],
   "execution_count": 14
  },
  {
   "metadata": {
    "ExecuteTime": {
     "end_time": "2024-12-24T05:36:31.369891Z",
     "start_time": "2024-12-24T05:36:26.568968Z"
    }
   },
   "cell_type": "code",
   "source": "# !pip install faker",
   "id": "9fe4dbc500875f99",
   "outputs": [
    {
     "name": "stdout",
     "output_type": "stream",
     "text": [
      "Requirement already satisfied: faker in d:\\y3 t8\\ml\\labs\\support vector machine\\.venv\\lib\\site-packages (33.0.0)\n",
      "Requirement already satisfied: python-dateutil>=2.4 in d:\\y3 t8\\ml\\labs\\support vector machine\\.venv\\lib\\site-packages (from faker) (2.9.0.post0)\n",
      "Requirement already satisfied: typing-extensions in d:\\y3 t8\\ml\\labs\\support vector machine\\.venv\\lib\\site-packages (from faker) (4.12.1)\n",
      "Requirement already satisfied: six>=1.5 in d:\\y3 t8\\ml\\labs\\support vector machine\\.venv\\lib\\site-packages (from python-dateutil>=2.4->faker) (1.16.0)\n"
     ]
    },
    {
     "name": "stderr",
     "output_type": "stream",
     "text": [
      "\n",
      "[notice] A new release of pip is available: 23.2.1 -> 24.3.1\n",
      "[notice] To update, run: python.exe -m pip install --upgrade pip\n"
     ]
    }
   ],
   "execution_count": 17
  },
  {
   "metadata": {
    "ExecuteTime": {
     "end_time": "2024-12-24T05:46:53.814418Z",
     "start_time": "2024-12-24T05:46:12.739650Z"
    }
   },
   "cell_type": "code",
   "source": [
    "import pandas as pd\n",
    "import random\n",
    "from faker import Faker\n",
    "\n",
    "# Initialize Faker\n",
    "fake = Faker()\n",
    "\n",
    "# Set the number of rows\n",
    "num_rows = 100000\n",
    "\n",
    "# Define possible values for specific columns\n",
    "blood_types = ['A+', 'A-', 'B+', 'B-', 'AB+', 'AB-', 'O+', 'O-']\n",
    "medical_conditions = ['Diabetes', 'Hypertension', 'Asthma', 'None', 'Cancer', 'Heart Disease']\n",
    "admission_types = ['Emergency', 'Routine Checkup', 'Surgery', 'Maternity']\n",
    "medications = ['Paracetamol', 'Ibuprofen', 'Amoxicillin', 'Insulin', 'Metformin', 'None']\n",
    "test_results = ['Positive', 'Negative', 'Inconclusive']\n",
    "\n",
    "# Generate synthetic data\n",
    "data = {\n",
    "    'Name': [fake.name() for _ in range(num_rows)],\n",
    "    'Age': [random.randint(1, 100) for _ in range(num_rows)],\n",
    "    'Gender': [random.choice(['Male', 'Female', 'Other']) for _ in range(num_rows)],\n",
    "    'Blood Type': [random.choice(blood_types) for _ in range(num_rows)],\n",
    "    'Medical Condition': [random.choice(medical_conditions) for _ in range(num_rows)],\n",
    "    'Date of Admission': [fake.date_between(start_date='-2y', end_date='today').isoformat() for _ in range(num_rows)],\n",
    "    'Doctor': [fake.name() for _ in range(num_rows)],\n",
    "    'Hospital': [fake.company() for _ in range(num_rows)],\n",
    "    'Insurance Provider': [fake.company() for _ in range(num_rows)],\n",
    "    'Billing Amount': [round(random.uniform(100, 10000), 2) for _ in range(num_rows)],\n",
    "    'Room Number': [random.randint(100, 999) for _ in range(num_rows)],\n",
    "    'Admission Type': [random.choice(admission_types) for _ in range(num_rows)],\n",
    "    'Discharge Date': [fake.date_between(start_date='-2y', end_date='today').isoformat() for _ in range(num_rows)],\n",
    "    'Medication': [random.choice(medications) for _ in range(num_rows)],\n",
    "    'Test Results': [random.choice(test_results) for _ in range(num_rows)]\n",
    "}\n",
    "\n",
    "# Create DataFrame\n",
    "df = pd.DataFrame(data)\n",
    "\n",
    "# Export to CSV (Optional)\n",
    "df.to_csv('medical_records.csv', index=False)\n",
    "\n",
    "# Display first few rows\n",
    "print(df.head())\n"
   ],
   "id": "2a05a18c8a49535",
   "outputs": [
    {
     "name": "stdout",
     "output_type": "stream",
     "text": [
      "              Name  Age  Gender Blood Type Medical Condition  \\\n",
      "0    George Fuller   87  Female        AB-            Asthma   \n",
      "1   Jennifer Smith    2   Other         B-          Diabetes   \n",
      "2       Luis Smith   77   Other         A-     Heart Disease   \n",
      "3  Nicholas Mathis   99    Male         B+      Hypertension   \n",
      "4      Travis Mays   31    Male         A-            Cancer   \n",
      "\n",
      "  Date of Admission               Doctor         Hospital  \\\n",
      "0        2023-07-19            Gary Ford  Richards-Orozco   \n",
      "1        2023-04-01  Alexandra Schneider  Chandler-Jordan   \n",
      "2        2024-01-13        Lisa Williams    Salazar Group   \n",
      "3        2024-02-14    Victoria Williams   Wheeler-Valdez   \n",
      "4        2023-02-11        Samantha Ryan        Adams PLC   \n",
      "\n",
      "          Insurance Provider  Billing Amount  Room Number   Admission Type  \\\n",
      "0               Hayes-Barker         6037.53          687        Emergency   \n",
      "1   Price, Rojas and Johnson         5458.48          377  Routine Checkup   \n",
      "2  Orr, Watson and Hernandez         4843.22          603          Surgery   \n",
      "3              Brown-Burnett         2383.67          133  Routine Checkup   \n",
      "4              Potter-Brandt         7501.86          615        Maternity   \n",
      "\n",
      "  Discharge Date   Medication  Test Results  \n",
      "0     2023-04-05  Amoxicillin  Inconclusive  \n",
      "1     2024-11-12      Insulin      Negative  \n",
      "2     2024-11-02         None  Inconclusive  \n",
      "3     2024-08-02    Metformin      Positive  \n",
      "4     2024-10-04      Insulin  Inconclusive  \n"
     ]
    }
   ],
   "execution_count": 18
  },
  {
   "metadata": {
    "ExecuteTime": {
     "end_time": "2024-12-24T05:47:30.342559Z",
     "start_time": "2024-12-24T05:47:30.338069Z"
    }
   },
   "cell_type": "code",
   "source": [
    "# check rows and columns\n",
    "df.shape"
   ],
   "id": "1cc671b96b014387",
   "outputs": [
    {
     "data": {
      "text/plain": [
       "(100000, 15)"
      ]
     },
     "execution_count": 20,
     "metadata": {},
     "output_type": "execute_result"
    }
   ],
   "execution_count": 20
  },
  {
   "metadata": {
    "ExecuteTime": {
     "end_time": "2024-12-24T05:47:38.988553Z",
     "start_time": "2024-12-24T05:47:38.849032Z"
    }
   },
   "cell_type": "code",
   "source": [
    "# check for duplicates\n",
    "df.duplicated().sum()"
   ],
   "id": "ef2cda0ccc11a499",
   "outputs": [
    {
     "data": {
      "text/plain": [
       "0"
      ]
     },
     "execution_count": 21,
     "metadata": {},
     "output_type": "execute_result"
    }
   ],
   "execution_count": 21
  }
 ],
 "metadata": {
  "kernelspec": {
   "display_name": "Python 3",
   "language": "python",
   "name": "python3"
  },
  "language_info": {
   "codemirror_mode": {
    "name": "ipython",
    "version": 2
   },
   "file_extension": ".py",
   "mimetype": "text/x-python",
   "name": "python",
   "nbconvert_exporter": "python",
   "pygments_lexer": "ipython2",
   "version": "2.7.6"
  }
 },
 "nbformat": 4,
 "nbformat_minor": 5
}
